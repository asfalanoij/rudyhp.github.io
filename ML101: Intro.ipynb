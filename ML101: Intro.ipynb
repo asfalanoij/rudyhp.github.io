{
  "nbformat": 4,
  "nbformat_minor": 0,
  "metadata": {
    "colab": {
      "provenance": [],
      "authorship_tag": "ABX9TyMO9Uc4oyEzENmudF0qNMLu",
      "include_colab_link": true
    },
    "kernelspec": {
      "name": "python3",
      "display_name": "Python 3"
    },
    "language_info": {
      "name": "python"
    }
  },
  "cells": [
    {
      "cell_type": "markdown",
      "metadata": {
        "id": "view-in-github",
        "colab_type": "text"
      },
      "source": [
        "<a href=\"https://colab.research.google.com/github/asfalanoij/rudyhp.github.io/blob/GCollabs/ML101%3A%20Intro.ipynb\" target=\"_parent\"><img src=\"https://colab.research.google.com/assets/colab-badge.svg\" alt=\"Open In Colab\"/></a>"
      ]
    },
    {
      "cell_type": "markdown",
      "source": [
        "# Exploratory Data Analysis and Data Preprocessing"
      ],
      "metadata": {
        "id": "pQdKo-pxDNyt"
      }
    },
    {
      "cell_type": "markdown",
      "source": [
        "## Intro"
      ],
      "metadata": {
        "id": "srFB1PIyDHLu"
      }
    },
    {
      "cell_type": "markdown",
      "source": [
        "Objective: Understand the importance and methodology of EDA and Data Preprocessing in Data Science.\n",
        "\n",
        "Target Audience: Aspiring data scientists, data analysts, and professionals looking to deepen their understanding in data science."
      ],
      "metadata": {
        "id": "LMwauk2nDviY"
      }
    },
    {
      "cell_type": "markdown",
      "source": [
        "# Langsung ke Intinya Inti: Machine Learning Bunga Iris\n",
        "\n",
        "Berikut adalah dataset Iris yang kerap digunakan dalam pembelajaran Machine Learning.\n",
        "\n",
        "Dataset Iris adalah kumpulan data yang sering digunakan dalam Machine Learning untuk pengenalan pola dan klasifikasi.\n",
        "\n",
        "Dataset ini terdiri atas 150 sampel dari tiga spesies bunga Iris (Iris setosa, Iris virginica, dan Iris versicolor). Masing-masing 50 sampel per spesies. Setiap sampel memiliki empat fitur: panjang dan lebar sepal (daun kelopak bunga), serta panjang dan lebar petal (daun mahkota bunga).\n",
        "\n",
        "Dataset ini digunakan untuk mengajarkan konsep dasar klasifikasi. Algoritma Machine Learning dilatih untuk mengklasifikasikan sampel bunga ke dalam salah satu dari tiga spesies berdasarkan fitur-fitur tersebut.\n",
        "\n",
        "Dengan kata lain, dengan melihat ukuran kelopak dan mahkota bunga, kita bisa mengetahui spesies bunganya. Wow!\n",
        "\n",
        "Dataset Iris merupakan contoh klasik yang mudah dipahami dan sering menjadi titik awal bagi banyak orang yang baru memulai belajar Machine Learning (ML)."
      ],
      "metadata": {
        "id": "YtikFGleGN2o"
      }
    },
    {
      "cell_type": "markdown",
      "source": [
        "# Algorithm Machine Learning Bunga Iris: Langsung Cus."
      ],
      "metadata": {
        "id": "BcvXhiClHxjt"
      }
    },
    {
      "cell_type": "code",
      "source": [
        "# Step 1: Import Libraries\n",
        "from sklearn import datasets\n",
        "from sklearn.model_selection import train_test_split\n",
        "from sklearn.neighbors import KNeighborsClassifier\n",
        "from sklearn.metrics import accuracy_score\n",
        "\n",
        "# Step 2: Load IRIS Dataset\n",
        "iris = datasets.load_iris()\n",
        "X = iris.data\n",
        "y = iris.target\n",
        "\n",
        "# Step 3: Explore the Dataset\n",
        "print(iris.DESCR)  # Prints the dataset description\n",
        "print(iris.feature_names)  # Prints the feature names\n",
        "\n",
        "# Step 4: Data Splitting\n",
        "X_train, X_test, y_train, y_test = train_test_split(X, y, test_size=0.3, random_state=42)\n",
        "\n",
        "# Step 5: Model Training\n",
        "knn = KNeighborsClassifier(n_neighbors=3)\n",
        "knn.fit(X_train, y_train)\n",
        "\n",
        "# Step 6: Model Evaluation\n",
        "y_pred = knn.predict(X_test)\n",
        "print(\"Accuracy:\", accuracy_score(y_test, y_pred))\n"
      ],
      "metadata": {
        "colab": {
          "base_uri": "https://localhost:8080/"
        },
        "id": "osk0_NpZHj7H",
        "outputId": "2d765b6e-c366-4836-d909-5b0c1d365687"
      },
      "execution_count": 3,
      "outputs": [
        {
          "output_type": "stream",
          "name": "stdout",
          "text": [
            ".. _iris_dataset:\n",
            "\n",
            "Iris plants dataset\n",
            "--------------------\n",
            "\n",
            "**Data Set Characteristics:**\n",
            "\n",
            "    :Number of Instances: 150 (50 in each of three classes)\n",
            "    :Number of Attributes: 4 numeric, predictive attributes and the class\n",
            "    :Attribute Information:\n",
            "        - sepal length in cm\n",
            "        - sepal width in cm\n",
            "        - petal length in cm\n",
            "        - petal width in cm\n",
            "        - class:\n",
            "                - Iris-Setosa\n",
            "                - Iris-Versicolour\n",
            "                - Iris-Virginica\n",
            "                \n",
            "    :Summary Statistics:\n",
            "\n",
            "    ============== ==== ==== ======= ===== ====================\n",
            "                    Min  Max   Mean    SD   Class Correlation\n",
            "    ============== ==== ==== ======= ===== ====================\n",
            "    sepal length:   4.3  7.9   5.84   0.83    0.7826\n",
            "    sepal width:    2.0  4.4   3.05   0.43   -0.4194\n",
            "    petal length:   1.0  6.9   3.76   1.76    0.9490  (high!)\n",
            "    petal width:    0.1  2.5   1.20   0.76    0.9565  (high!)\n",
            "    ============== ==== ==== ======= ===== ====================\n",
            "\n",
            "    :Missing Attribute Values: None\n",
            "    :Class Distribution: 33.3% for each of 3 classes.\n",
            "    :Creator: R.A. Fisher\n",
            "    :Donor: Michael Marshall (MARSHALL%PLU@io.arc.nasa.gov)\n",
            "    :Date: July, 1988\n",
            "\n",
            "The famous Iris database, first used by Sir R.A. Fisher. The dataset is taken\n",
            "from Fisher's paper. Note that it's the same as in R, but not as in the UCI\n",
            "Machine Learning Repository, which has two wrong data points.\n",
            "\n",
            "This is perhaps the best known database to be found in the\n",
            "pattern recognition literature.  Fisher's paper is a classic in the field and\n",
            "is referenced frequently to this day.  (See Duda & Hart, for example.)  The\n",
            "data set contains 3 classes of 50 instances each, where each class refers to a\n",
            "type of iris plant.  One class is linearly separable from the other 2; the\n",
            "latter are NOT linearly separable from each other.\n",
            "\n",
            ".. topic:: References\n",
            "\n",
            "   - Fisher, R.A. \"The use of multiple measurements in taxonomic problems\"\n",
            "     Annual Eugenics, 7, Part II, 179-188 (1936); also in \"Contributions to\n",
            "     Mathematical Statistics\" (John Wiley, NY, 1950).\n",
            "   - Duda, R.O., & Hart, P.E. (1973) Pattern Classification and Scene Analysis.\n",
            "     (Q327.D83) John Wiley & Sons.  ISBN 0-471-22361-1.  See page 218.\n",
            "   - Dasarathy, B.V. (1980) \"Nosing Around the Neighborhood: A New System\n",
            "     Structure and Classification Rule for Recognition in Partially Exposed\n",
            "     Environments\".  IEEE Transactions on Pattern Analysis and Machine\n",
            "     Intelligence, Vol. PAMI-2, No. 1, 67-71.\n",
            "   - Gates, G.W. (1972) \"The Reduced Nearest Neighbor Rule\".  IEEE Transactions\n",
            "     on Information Theory, May 1972, 431-433.\n",
            "   - See also: 1988 MLC Proceedings, 54-64.  Cheeseman et al\"s AUTOCLASS II\n",
            "     conceptual clustering system finds 3 classes in the data.\n",
            "   - Many, many more ...\n",
            "['sepal length (cm)', 'sepal width (cm)', 'petal length (cm)', 'petal width (cm)']\n",
            "Accuracy: 1.0\n"
          ]
        }
      ]
    },
    {
      "cell_type": "markdown",
      "source": [
        "# Interpretasi Code di atas\n",
        "\n",
        "Hasil running di atas merupakan Machine Learning atas bunga Iris. Langkah ML secara mudah terdiri atas:\n",
        "1. import libaries (kita akan membahas libraries pada seksi berikutnya),\n",
        "2. load dataset,\n",
        "3. eksplorasi dataset\n",
        "*   variable/feature 1 = x1= 'sepal length (cm)'\n",
        "*   feature 2 = x2= 'sepal width (cm)'\n",
        "*   feature 3 = x3=  'petal length (cm)'\n",
        "*   feature 4 = x4= 'petal width (cm)'\n",
        "sementara itu, Y=outcome = species bunga\n",
        "\n",
        " oh iya, dalam Data Science atau Machine Learning, kita menggunakan term \"feature\" alih-alih \"variable\" ya. =)\n",
        "pada code di atas, kita menggunakan X untuk menggambarkan beberapa x yang ada.\n",
        "\n",
        "4. Data Splitting - memecah data real yang sudah ada menjadi dua: data real dan data latihan/train dataset.\n",
        "Jadi, misal: dari 150 data record/ bunga yang diteliti, kita bagi menjadi 100 data real dan 50 data record sebagai data latihan/training dataset.\n",
        "\n",
        "\n",
        "5. Model Training\n",
        "Pada 50 data latihan, Algortima Machine Learning (kita sebut saja, \"si Mesin\" ya supaya lebih mudah), si Mesin tidak mengetahui spesies apa.\n",
        "\"Hmm..aku hanya tau ukuran panjang x lebar kelopak dan mahkota, akan aku tebak spesiesnya\"\n",
        "\"ok, akan aku tebak, pakai KNN kan, bos?\"-- Kita akan bahas algortima ML pada sesi berikutnya.\n",
        "Kemudian, si Mesin akan memprediksi/mengkalsifikasi data. Dengan kata lain, memprediksi spesies bunga Iris dari ukuran feature 1 s.d 4.\n",
        "\n",
        "6. Evaluasi Model\n",
        "Secara mudah, Evaluasi Model dilakukan untuk mengetahui seberapa baik model kita.Dengan kata lain, membandingkan HASIL PREDIKSI dengan KENYATAAN.\n",
        "\n",
        "Dari hasil evalusi model Bunga Iris kita di atas, prediksi dengan KNN kita adalah AKURAT 100% (Accuracy: 1.0). Kita akan membahas kinerja Algoritm si Mesin di sesi mendatang ya.  \n",
        "\n",
        "# Bagaimana? Machine Learning mudah bukan? Bukaaaan...q1z3\n"
      ],
      "metadata": {
        "id": "CTpsbT_xI8Ki"
      }
    },
    {
      "cell_type": "markdown",
      "source": [
        "### EDA - Exploratory Data Analysis"
      ],
      "metadata": {
        "id": "gjT0KxQID5eE"
      }
    },
    {
      "cell_type": "markdown",
      "source": [
        "mari kita bedah pola data Iris"
      ],
      "metadata": {
        "id": "8uMp0LWXOYVr"
      }
    },
    {
      "cell_type": "markdown",
      "source": [
        "EDA is an approach for analyzing data sets to summarize their main characteristics, often using statistical graphics and other data visualization methods.\n"
      ],
      "metadata": {
        "id": "pXy__XeVECQI"
      }
    },
    {
      "cell_type": "markdown",
      "source": [
        "Kenapa penting?\n",
        "\n",
        "1. Discovery of patterns: mengetahui struktur dan pola tersembunyi.\n",
        "\n",
        "2. Spotting anomalies: identifikasi error dan outliers.\n",
        "\n",
        "3. Testing hypothesis: Validate assumptions.\n",
        "\n",
        "4. Selecting features: memilih variable/feature untuk model building."
      ],
      "metadata": {
        "id": "G0cGY8pyEILf"
      }
    },
    {
      "cell_type": "markdown",
      "source": [
        "Metodologi:\n",
        "\n",
        "1.   Deskriptive Statistics\n",
        "2.   Visualizations\n",
        "\n"
      ],
      "metadata": {
        "id": "56QnUV5qEubs"
      }
    },
    {
      "cell_type": "code",
      "source": [],
      "metadata": {
        "id": "dEQP5f-FEP4C"
      },
      "execution_count": null,
      "outputs": []
    },
    {
      "cell_type": "code",
      "source": [],
      "metadata": {
        "id": "1iS92MVDD3Sn"
      },
      "execution_count": null,
      "outputs": []
    }
  ]
}